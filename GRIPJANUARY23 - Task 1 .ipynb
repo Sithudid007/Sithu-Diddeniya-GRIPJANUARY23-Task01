{
 "cells": [
  {
   "cell_type": "markdown",
   "id": "1162b29e",
   "metadata": {},
   "source": [
    "# GRIP: The Sparks Foundation\n",
    "### GRIPJANUARY23\n",
    "### Task 01: Prediction using Supervised Machine Learning\n",
    "##### Student: Sithu Diddeniya"
   ]
  },
  {
   "cell_type": "markdown",
   "id": "a4daabf2",
   "metadata": {},
   "source": [
    "### Task\n",
    "#### Predict the percentage of an student based on the no. of study hours. What will be predicted score if a student studies for 9.25 hrs/ day?"
   ]
  },
  {
   "cell_type": "markdown",
   "id": "b89b685a",
   "metadata": {},
   "source": [
    "#### Importing dataset and libraries "
   ]
  },
  {
   "cell_type": "code",
   "execution_count": 24,
   "id": "5704278d",
   "metadata": {},
   "outputs": [],
   "source": [
    "import numpy as np\n",
    "import pandas as pd\n",
    "import matplotlib.pyplot as plt\n",
    "plt.style.use('seaborn-white')\n",
    "%matplotlib inline"
   ]
  },
  {
   "cell_type": "code",
   "execution_count": 25,
   "id": "b2b8cc02",
   "metadata": {},
   "outputs": [],
   "source": [
    "url = \"http://bit.ly/w-data\"\n",
    "dfstu = pd.read_csv(url)"
   ]
  },
  {
   "cell_type": "code",
   "execution_count": 26,
   "id": "89069bc1",
   "metadata": {},
   "outputs": [
    {
     "data": {
      "text/html": [
       "<div>\n",
       "<style scoped>\n",
       "    .dataframe tbody tr th:only-of-type {\n",
       "        vertical-align: middle;\n",
       "    }\n",
       "\n",
       "    .dataframe tbody tr th {\n",
       "        vertical-align: top;\n",
       "    }\n",
       "\n",
       "    .dataframe thead th {\n",
       "        text-align: right;\n",
       "    }\n",
       "</style>\n",
       "<table border=\"1\" class=\"dataframe\">\n",
       "  <thead>\n",
       "    <tr style=\"text-align: right;\">\n",
       "      <th></th>\n",
       "      <th>Hours</th>\n",
       "      <th>Scores</th>\n",
       "    </tr>\n",
       "  </thead>\n",
       "  <tbody>\n",
       "    <tr>\n",
       "      <th>0</th>\n",
       "      <td>2.5</td>\n",
       "      <td>21</td>\n",
       "    </tr>\n",
       "    <tr>\n",
       "      <th>1</th>\n",
       "      <td>5.1</td>\n",
       "      <td>47</td>\n",
       "    </tr>\n",
       "    <tr>\n",
       "      <th>2</th>\n",
       "      <td>3.2</td>\n",
       "      <td>27</td>\n",
       "    </tr>\n",
       "    <tr>\n",
       "      <th>3</th>\n",
       "      <td>8.5</td>\n",
       "      <td>75</td>\n",
       "    </tr>\n",
       "    <tr>\n",
       "      <th>4</th>\n",
       "      <td>3.5</td>\n",
       "      <td>30</td>\n",
       "    </tr>\n",
       "  </tbody>\n",
       "</table>\n",
       "</div>"
      ],
      "text/plain": [
       "   Hours  Scores\n",
       "0    2.5      21\n",
       "1    5.1      47\n",
       "2    3.2      27\n",
       "3    8.5      75\n",
       "4    3.5      30"
      ]
     },
     "execution_count": 26,
     "metadata": {},
     "output_type": "execute_result"
    }
   ],
   "source": [
    "dfstu.head()"
   ]
  },
  {
   "cell_type": "code",
   "execution_count": 27,
   "id": "af9d30b6",
   "metadata": {},
   "outputs": [
    {
     "data": {
      "text/html": [
       "<div>\n",
       "<style scoped>\n",
       "    .dataframe tbody tr th:only-of-type {\n",
       "        vertical-align: middle;\n",
       "    }\n",
       "\n",
       "    .dataframe tbody tr th {\n",
       "        vertical-align: top;\n",
       "    }\n",
       "\n",
       "    .dataframe thead th {\n",
       "        text-align: right;\n",
       "    }\n",
       "</style>\n",
       "<table border=\"1\" class=\"dataframe\">\n",
       "  <thead>\n",
       "    <tr style=\"text-align: right;\">\n",
       "      <th></th>\n",
       "      <th>Hours</th>\n",
       "      <th>Scores</th>\n",
       "    </tr>\n",
       "  </thead>\n",
       "  <tbody>\n",
       "    <tr>\n",
       "      <th>count</th>\n",
       "      <td>25.000000</td>\n",
       "      <td>25.000000</td>\n",
       "    </tr>\n",
       "    <tr>\n",
       "      <th>mean</th>\n",
       "      <td>5.012000</td>\n",
       "      <td>51.480000</td>\n",
       "    </tr>\n",
       "    <tr>\n",
       "      <th>std</th>\n",
       "      <td>2.525094</td>\n",
       "      <td>25.286887</td>\n",
       "    </tr>\n",
       "    <tr>\n",
       "      <th>min</th>\n",
       "      <td>1.100000</td>\n",
       "      <td>17.000000</td>\n",
       "    </tr>\n",
       "    <tr>\n",
       "      <th>25%</th>\n",
       "      <td>2.700000</td>\n",
       "      <td>30.000000</td>\n",
       "    </tr>\n",
       "    <tr>\n",
       "      <th>50%</th>\n",
       "      <td>4.800000</td>\n",
       "      <td>47.000000</td>\n",
       "    </tr>\n",
       "    <tr>\n",
       "      <th>75%</th>\n",
       "      <td>7.400000</td>\n",
       "      <td>75.000000</td>\n",
       "    </tr>\n",
       "    <tr>\n",
       "      <th>max</th>\n",
       "      <td>9.200000</td>\n",
       "      <td>95.000000</td>\n",
       "    </tr>\n",
       "  </tbody>\n",
       "</table>\n",
       "</div>"
      ],
      "text/plain": [
       "           Hours     Scores\n",
       "count  25.000000  25.000000\n",
       "mean    5.012000  51.480000\n",
       "std     2.525094  25.286887\n",
       "min     1.100000  17.000000\n",
       "25%     2.700000  30.000000\n",
       "50%     4.800000  47.000000\n",
       "75%     7.400000  75.000000\n",
       "max     9.200000  95.000000"
      ]
     },
     "execution_count": 27,
     "metadata": {},
     "output_type": "execute_result"
    }
   ],
   "source": [
    "# Statistical_details \n",
    "\n",
    "dfstu.describe()"
   ]
  },
  {
   "cell_type": "code",
   "execution_count": 28,
   "id": "5b40c098",
   "metadata": {},
   "outputs": [
    {
     "data": {
      "text/html": [
       "<div>\n",
       "<style scoped>\n",
       "    .dataframe tbody tr th:only-of-type {\n",
       "        vertical-align: middle;\n",
       "    }\n",
       "\n",
       "    .dataframe tbody tr th {\n",
       "        vertical-align: top;\n",
       "    }\n",
       "\n",
       "    .dataframe thead th {\n",
       "        text-align: right;\n",
       "    }\n",
       "</style>\n",
       "<table border=\"1\" class=\"dataframe\">\n",
       "  <thead>\n",
       "    <tr style=\"text-align: right;\">\n",
       "      <th></th>\n",
       "      <th>Hours</th>\n",
       "      <th>Scores</th>\n",
       "    </tr>\n",
       "  </thead>\n",
       "  <tbody>\n",
       "    <tr>\n",
       "      <th>Hours</th>\n",
       "      <td>1.000000</td>\n",
       "      <td>0.976191</td>\n",
       "    </tr>\n",
       "    <tr>\n",
       "      <th>Scores</th>\n",
       "      <td>0.976191</td>\n",
       "      <td>1.000000</td>\n",
       "    </tr>\n",
       "  </tbody>\n",
       "</table>\n",
       "</div>"
      ],
      "text/plain": [
       "           Hours    Scores\n",
       "Hours   1.000000  0.976191\n",
       "Scores  0.976191  1.000000"
      ]
     },
     "execution_count": 28,
     "metadata": {},
     "output_type": "execute_result"
    }
   ],
   "source": [
    "# Calculating_coeficient_correlation\n",
    "\n",
    "dfstu.corr()"
   ]
  },
  {
   "cell_type": "markdown",
   "id": "2745e33a",
   "metadata": {},
   "source": [
    "#### The correlation between Hours and Scores is 0.976, which means those two variables have a strong correlation because of coefficient correlation value is close to 1.\n",
    "\n",
    "#### Data Preprocessing\n",
    "#### Identifying the independent variable (x) and the dependent variable (y) by dividing the data as:\n",
    "\n",
    "##### Input (x): the \"Hours\" column\n",
    "##### Output (y): the \"Scores\" column"
   ]
  },
  {
   "cell_type": "code",
   "execution_count": 29,
   "id": "2a6542f0",
   "metadata": {},
   "outputs": [],
   "source": [
    "X = dfstu.iloc[:, :-1].values  \n",
    "y = dfstu.iloc[:, 1].values  "
   ]
  },
  {
   "cell_type": "code",
   "execution_count": 10,
   "id": "027e2071",
   "metadata": {},
   "outputs": [
    {
     "data": {
      "text/plain": [
       "array([21, 47, 27, 75, 30, 20, 88, 60, 81, 25, 85, 62, 41, 42, 17, 95, 30,\n",
       "       24, 67, 69, 30, 54, 35, 76, 86])"
      ]
     },
     "execution_count": 10,
     "metadata": {},
     "output_type": "execute_result"
    }
   ],
   "source": [
    "y"
   ]
  },
  {
   "cell_type": "code",
   "execution_count": 9,
   "id": "a837c355",
   "metadata": {},
   "outputs": [
    {
     "data": {
      "text/plain": [
       "array([[2.5],\n",
       "       [5.1],\n",
       "       [3.2],\n",
       "       [8.5],\n",
       "       [3.5],\n",
       "       [1.5],\n",
       "       [9.2],\n",
       "       [5.5],\n",
       "       [8.3],\n",
       "       [2.7],\n",
       "       [7.7],\n",
       "       [5.9],\n",
       "       [4.5],\n",
       "       [3.3],\n",
       "       [1.1],\n",
       "       [8.9],\n",
       "       [2.5],\n",
       "       [1.9],\n",
       "       [6.1],\n",
       "       [7.4],\n",
       "       [2.7],\n",
       "       [4.8],\n",
       "       [3.8],\n",
       "       [6.9],\n",
       "       [7.8]])"
      ]
     },
     "execution_count": 9,
     "metadata": {},
     "output_type": "execute_result"
    }
   ],
   "source": [
    "X"
   ]
  },
  {
   "cell_type": "code",
   "execution_count": 30,
   "id": "f52ca53f",
   "metadata": {},
   "outputs": [
    {
     "data": {
      "image/png": "[encoded data removed]",
      "text/plain": [
       "<Figure size 432x288 with 1 Axes>"
      ]
     },
     "metadata": {
      "needs_background": "light"
     },
     "output_type": "display_data"
    }
   ],
   "source": [
    "plt.scatter(X, y, color= 'blue')\n",
    "plt.xlabel(\"Number of studied hours\") \n",
    "plt.ylabel(\"Score percentage\")\n",
    "plt.title('Study hours vs Scores Percentage');"
   ]
  },
  {
   "cell_type": "markdown",
   "id": "8c6ca88c",
   "metadata": {},
   "source": [
    "#### positive linear relation between the number of hours studied and percentage of scores."
   ]
  },
  {
   "cell_type": "markdown",
   "id": "e3c29255",
   "metadata": {},
   "source": [
    "#### Splitting the dataset\n",
    " ##### 30%as test data and 70% as the train data."
   ]
  },
  {
   "cell_type": "code",
   "execution_count": 31,
   "id": "bbbe8568",
   "metadata": {},
   "outputs": [],
   "source": [
    "from sklearn.model_selection import train_test_split  \n",
    "\n",
    "X_train, X_test, y_train, y_test = train_test_split(X, y, \n",
    "                            test_size=0.3, random_state=0) "
   ]
  },
  {
   "cell_type": "markdown",
   "id": "5a6974e3",
   "metadata": {},
   "source": [
    "Fitting linear regression model into the training set."
   ]
  },
  {
   "cell_type": "code",
   "execution_count": 32,
   "id": "cebcfde4",
   "metadata": {},
   "outputs": [
    {
     "data": {
      "text/plain": [
       "LinearRegression()"
      ]
     },
     "execution_count": 32,
     "metadata": {},
     "output_type": "execute_result"
    }
   ],
   "source": [
    "from sklearn.linear_model import LinearRegression\n",
    "\n",
    "Model = LinearRegression()\n",
    "Model.fit(X_train,y_train)"
   ]
  },
  {
   "cell_type": "markdown",
   "id": "68ddd4bf",
   "metadata": {},
   "source": [
    "#### Predicting the test set results "
   ]
  },
  {
   "cell_type": "code",
   "execution_count": 33,
   "id": "7694d5fd",
   "metadata": {},
   "outputs": [],
   "source": [
    "# Predicting the y value based on testing data\n",
    "\n",
    "y_pred = Model.predict(X_test)"
   ]
  },
  {
   "cell_type": "code",
   "execution_count": 34,
   "id": "44bc4032",
   "metadata": {},
   "outputs": [
    {
     "data": {
      "text/html": [
       "<div>\n",
       "<style scoped>\n",
       "    .dataframe tbody tr th:only-of-type {\n",
       "        vertical-align: middle;\n",
       "    }\n",
       "\n",
       "    .dataframe tbody tr th {\n",
       "        vertical-align: top;\n",
       "    }\n",
       "\n",
       "    .dataframe thead th {\n",
       "        text-align: right;\n",
       "    }\n",
       "</style>\n",
       "<table border=\"1\" class=\"dataframe\">\n",
       "  <thead>\n",
       "    <tr style=\"text-align: right;\">\n",
       "      <th></th>\n",
       "      <th>Actual</th>\n",
       "      <th>Prediction</th>\n",
       "    </tr>\n",
       "  </thead>\n",
       "  <tbody>\n",
       "    <tr>\n",
       "      <th>0</th>\n",
       "      <td>20</td>\n",
       "      <td>17.053665</td>\n",
       "    </tr>\n",
       "    <tr>\n",
       "      <th>1</th>\n",
       "      <td>27</td>\n",
       "      <td>33.694229</td>\n",
       "    </tr>\n",
       "    <tr>\n",
       "      <th>2</th>\n",
       "      <td>69</td>\n",
       "      <td>74.806209</td>\n",
       "    </tr>\n",
       "    <tr>\n",
       "      <th>3</th>\n",
       "      <td>30</td>\n",
       "      <td>26.842232</td>\n",
       "    </tr>\n",
       "    <tr>\n",
       "      <th>4</th>\n",
       "      <td>62</td>\n",
       "      <td>60.123359</td>\n",
       "    </tr>\n",
       "    <tr>\n",
       "      <th>5</th>\n",
       "      <td>35</td>\n",
       "      <td>39.567369</td>\n",
       "    </tr>\n",
       "    <tr>\n",
       "      <th>6</th>\n",
       "      <td>24</td>\n",
       "      <td>20.969092</td>\n",
       "    </tr>\n",
       "    <tr>\n",
       "      <th>7</th>\n",
       "      <td>86</td>\n",
       "      <td>78.721636</td>\n",
       "    </tr>\n",
       "  </tbody>\n",
       "</table>\n",
       "</div>"
      ],
      "text/plain": [
       "   Actual  Prediction\n",
       "0      20   17.053665\n",
       "1      27   33.694229\n",
       "2      69   74.806209\n",
       "3      30   26.842232\n",
       "4      62   60.123359\n",
       "5      35   39.567369\n",
       "6      24   20.969092\n",
       "7      86   78.721636"
      ]
     },
     "execution_count": 34,
     "metadata": {},
     "output_type": "execute_result"
    }
   ],
   "source": [
    "# Comparing y-value actual and prediction of testing data\n",
    "\n",
    "df_scompare = pd.DataFrame({'Actual' : y_test, 'Prediction': y_pred})\n",
    "df_scompare"
   ]
  },
  {
   "cell_type": "code",
   "execution_count": 16,
   "id": "365e43a6",
   "metadata": {},
   "outputs": [
    {
     "name": "stdout",
     "output_type": "stream",
     "text": [
      "Prediction over test data: \n",
      " [97.80934058]\n"
     ]
    }
   ],
   "source": [
    "#New data entry = 9.25 (Hours)\n",
    "\n",
    "X_new = np.array([9.75]).reshape(-1,1)\n",
    "y_pred_new = Model.predict(X_new)\n",
    "\n",
    "print(\"Prediction over test data: \\n\",y_pred_new )"
   ]
  },
  {
   "cell_type": "markdown",
   "id": "ba12f807",
   "metadata": {},
   "source": [
    "##### According to the model, if a student studies for 9.25 hours, he will score around 97.8% on the test.\n",
    "\n"
   ]
  },
  {
   "cell_type": "code",
   "execution_count": 17,
   "id": "937b08b6",
   "metadata": {},
   "outputs": [
    {
     "name": "stdout",
     "output_type": "stream",
     "text": [
      "Intercept: \n",
      " 2.370815382341867\n",
      "Coefficient: \n",
      " [9.78856669]\n"
     ]
    }
   ],
   "source": [
    "# Interpreting the intercept and coefficient of the model\n",
    "\n",
    "Intercept = Model.intercept_\n",
    "print(\"Intercept: \\n\", Intercept)\n",
    "\n",
    "Coefficient = Model.coef_\n",
    "print(\"Coefficient: \\n\", Coefficient)"
   ]
  },
  {
   "cell_type": "markdown",
   "id": "8234d461",
   "metadata": {},
   "source": [
    "##### From resutls, calculated  model intercept as 2.3708153823418883 and the model coefficient as 9.78856669.\n",
    "\n",
    "##### Linear regression equation is Y = 9.78856669X + 2.3708153823418883. "
   ]
  },
  {
   "cell_type": "code",
   "execution_count": 23,
   "id": "9196c225",
   "metadata": {},
   "outputs": [
    {
     "data": {
      "image/png": "[encoded data removed]",
      "text/plain": [
       "<Figure size 432x288 with 1 Axes>"
      ]
     },
     "metadata": {
      "needs_background": "light"
     },
     "output_type": "display_data"
    }
   ],
   "source": [
    "# Plotting the regression line\n",
    "line = 9.78856669*X + 2.3708153823418883\n",
    "\n",
    "# Plotting for the train data\n",
    "plt.scatter(X_train, y_train,color=\"blue\")\n",
    "plt.plot(X, line, color=\"red\");\n",
    "plt.title('Training set')\n",
    "plt.show();\n"
   ]
  },
  {
   "cell_type": "code",
   "execution_count": 19,
   "id": "686e346f",
   "metadata": {},
   "outputs": [
    {
     "data": {
      "image/png": "[encoded data removed]",
      "text/plain": [
       "<Figure size 432x288 with 1 Axes>"
      ]
     },
     "metadata": {
      "needs_background": "light"
     },
     "output_type": "display_data"
    }
   ],
   "source": [
    "# Plotting the regression line\n",
    "line = 9.78856669*X + 2.3708153823418883\n",
    "\n",
    "# Plotting for the test data\n",
    "plt.scatter(X_test, y_test, color=\"blue\")\n",
    "plt.plot(X, line, color=\"yellow\");\n",
    "plt.title('Testing set');\n",
    "plt.show()"
   ]
  },
  {
   "cell_type": "markdown",
   "id": "8c0a58f2",
   "metadata": {},
   "source": [
    "##### Model evaluation"
   ]
  },
  {
   "cell_type": "code",
   "execution_count": 20,
   "id": "808c0077",
   "metadata": {},
   "outputs": [
    {
     "name": "stdout",
     "output_type": "stream",
     "text": [
      "R^2 value: \n",
      " 0.9484997422695115\n",
      "Root Mean Square Deviation: \n",
      " 4.792191274636316\n",
      "Mean Absolute Error: \n",
      " 4.4197278080276545\n"
     ]
    }
   ],
   "source": [
    "from sklearn import metrics  \n",
    "from sklearn.metrics import mean_squared_error\n",
    "\n",
    "# R^2 value\n",
    "r2_value = Model.score(X_train, y_train)\n",
    "print(\"R^2 value: \\n\", r2_value)\n",
    "\n",
    "# Root Mean Squared Deviation\n",
    "rmsd = np.sqrt(mean_squared_error(y_test, y_pred))\n",
    "print(\"Root Mean Square Deviation: \\n\", rmsd)\n",
    "\n",
    "# Mean Absolute Error\n",
    "mae = metrics.mean_absolute_error(y_test, y_pred)\n",
    "print(\"Mean Absolute Error: \\n\", mae)\n",
    "     "
   ]
  },
  {
   "cell_type": "markdown",
   "id": "76c3939b",
   "metadata": {},
   "source": [
    "##### Higher the R^2, model best fit.\n",
    "\n",
    "##### According to MAE, the average error between the predictions and actuals in this dataset is 4.419.\n",
    "\n",
    "##### Lower the RMSE , model best fit. RMSE is a good measure of how accurately the model predicts the response."
   ]
  }
 ],
 "metadata": {
  "kernelspec": {
   "display_name": "Python 3",
   "language": "python",
   "name": "python3"
  },
  "language_info": {
   "codemirror_mode": {
    "name": "ipython",
    "version": 3
   },
   "file_extension": ".py",
   "mimetype": "text/x-python",
   "name": "python",
   "nbconvert_exporter": "python",
   "pygments_lexer": "ipython3",
   "version": "3.8.8"
  }
 },
 "nbformat": 4,
 "nbformat_minor": 5
}
